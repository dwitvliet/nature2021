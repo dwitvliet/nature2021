{
 "cells": [
  {
   "cell_type": "markdown",
   "metadata": {},
   "source": [
    "# Generate all figures"
   ]
  },
  {
   "cell_type": "markdown",
   "metadata": {},
   "source": [
    "All generated figures are saved to `figures`."
   ]
  },
  {
   "cell_type": "markdown",
   "metadata": {},
   "source": [
    "## To do\n",
    "- Add remaining figures\n",
    "- Clean up plotting object\n",
    "- Add docstrings and comments\n",
    "- Add figure references (will wait until paper is published)"
   ]
  },
  {
   "cell_type": "markdown",
   "metadata": {},
   "source": [
    "## Import all requirements"
   ]
  },
  {
   "cell_type": "code",
   "execution_count": 1,
   "metadata": {},
   "outputs": [],
   "source": [
    "%%capture\n",
    "%load_ext autoreload\n",
    "%autoreload 2\n",
    "\n",
    "from src import classify_edges\n",
    "from src.export import export_graphs\n",
    "\n",
    "# Classify connections as 'stable', 'developmentally dynamic', or 'variable'.\n",
    "edge_classifications, edge_pair_classifications = classify_edges.classify_edges()"
   ]
  },
  {
   "cell_type": "markdown",
   "metadata": {},
   "source": [
    "## Volumetric models\n",
    "\n",
    "1. Export models from [VAST](https://doi.org/10.3389/fncir.2018.00088) to .obj files.\n",
    "2. Run `src/volumetric_models/zbrush_smooth.py` to create a script for ZBrush.\n",
    "3. In Zbrush, under Zscript/Load, open the script generate above named \"zbrush_script.txt\".\n",
    "4. Press \"H\" to show loaded scripts, then click the button \"SmoothObjects\" to run the smoothing.\n",
    "5. In [Blender ](https://www.blender.org/), import the smoothed models using `src/volumetric_models/blender_import.py`"
   ]
  },
  {
   "cell_type": "markdown",
   "metadata": {},
   "source": [
    "![volumetric model](figures/volumetric_models/3D_model_Dataset8.png)"
   ]
  },
  {
   "cell_type": "markdown",
   "metadata": {},
   "source": [
    "## Connectome networks\n",
    "\n",
    "1. Export graphs into a graphml format using `export.export_graphs_for_cytoscape`.\n",
    "2. Import the graphs into cytoscape. \n",
    "3. Set the node and edge parameters as you see fit."
   ]
  },
  {
   "cell_type": "code",
   "execution_count": 9,
   "metadata": {},
   "outputs": [
    {
     "name": "stdout",
     "output_type": "stream",
     "text": [
      "x range: -0.02023019527209274 0.03457753594939801\n",
      "y range: -1.7253534211408061 2.1517340229500017\n",
      "Saved to `figures/exports/graphs_for_cytoscape.graphml`\n"
     ]
    }
   ],
   "source": [
    "export_graphs.export_graphs_for_cytoscape(edge_classifications)"
   ]
  },
  {
   "cell_type": "markdown",
   "metadata": {},
   "source": [
    "## Uniform neurite growth maintains brain geometry"
   ]
  },
  {
   "cell_type": "code",
   "execution_count": null,
   "metadata": {},
   "outputs": [],
   "source": []
  },
  {
   "cell_type": "markdown",
   "metadata": {},
   "source": [
    "## Non-uniform synapse addition reshapes the connectome"
   ]
  },
  {
   "cell_type": "code",
   "execution_count": null,
   "metadata": {},
   "outputs": [],
   "source": []
  },
  {
   "cell_type": "markdown",
   "metadata": {},
   "source": [
    "## Isogenic individuals have both stereotyped and variable connections"
   ]
  },
  {
   "cell_type": "code",
   "execution_count": null,
   "metadata": {},
   "outputs": [],
   "source": []
  },
  {
   "cell_type": "markdown",
   "metadata": {},
   "source": [
    "## Variable connections are not uniformly distributed among cell types"
   ]
  },
  {
   "cell_type": "code",
   "execution_count": null,
   "metadata": {},
   "outputs": [],
   "source": []
  },
  {
   "cell_type": "markdown",
   "metadata": {},
   "source": [
    "## Interneuron connections are stable during maturation"
   ]
  },
  {
   "cell_type": "code",
   "execution_count": null,
   "metadata": {},
   "outputs": [],
   "source": []
  },
  {
   "cell_type": "markdown",
   "metadata": {},
   "source": [
    "## Increase in both feedforward signal flow across maturation"
   ]
  },
  {
   "cell_type": "code",
   "execution_count": null,
   "metadata": {},
   "outputs": [],
   "source": []
  },
  {
   "cell_type": "markdown",
   "metadata": {},
   "source": [
    "## Increase in modularity across maturation"
   ]
  },
  {
   "cell_type": "code",
   "execution_count": null,
   "metadata": {},
   "outputs": [],
   "source": []
  }
 ],
 "metadata": {
  "kernelspec": {
   "display_name": "Python 3",
   "language": "python",
   "name": "python3"
  },
  "language_info": {
   "codemirror_mode": {
    "name": "ipython",
    "version": 3
   },
   "file_extension": ".py",
   "mimetype": "text/x-python",
   "name": "python",
   "nbconvert_exporter": "python",
   "pygments_lexer": "ipython3",
   "version": "3.6.9"
  }
 },
 "nbformat": 4,
 "nbformat_minor": 4
}
